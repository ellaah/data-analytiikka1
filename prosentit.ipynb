{
 "cells": [
  {
   "cell_type": "code",
   "execution_count": 3,
   "metadata": {
    "collapsed": true
   },
   "outputs": [],
   "source": [
    "import pandas as pd"
   ]
  },
  {
   "cell_type": "code",
   "execution_count": 4,
   "metadata": {
    "collapsed": true
   },
   "outputs": [],
   "source": [
    "import matplotlib.pyplot as plt\n",
    "%matplotlib inline"
   ]
  },
  {
   "cell_type": "code",
   "execution_count": 5,
   "metadata": {},
   "outputs": [
    {
     "data": {
      "text/html": [
       "<div>\n",
       "<style>\n",
       "    .dataframe thead tr:only-child th {\n",
       "        text-align: right;\n",
       "    }\n",
       "\n",
       "    .dataframe thead th {\n",
       "        text-align: left;\n",
       "    }\n",
       "\n",
       "    .dataframe tbody tr th {\n",
       "        vertical-align: top;\n",
       "    }\n",
       "</style>\n",
       "<table border=\"1\" class=\"dataframe\">\n",
       "  <thead>\n",
       "    <tr style=\"text-align: right;\">\n",
       "      <th></th>\n",
       "      <th>nro</th>\n",
       "      <th>sukup</th>\n",
       "      <th>ikä</th>\n",
       "      <th>perhe</th>\n",
       "      <th>koulutus</th>\n",
       "      <th>palveluv</th>\n",
       "      <th>palkka</th>\n",
       "      <th>johto</th>\n",
       "      <th>työtov</th>\n",
       "      <th>työymp</th>\n",
       "      <th>palkkat</th>\n",
       "      <th>työteht</th>\n",
       "      <th>työterv</th>\n",
       "      <th>lomaosa</th>\n",
       "      <th>kuntosa</th>\n",
       "      <th>hieroja</th>\n",
       "    </tr>\n",
       "  </thead>\n",
       "  <tbody>\n",
       "    <tr>\n",
       "      <th>0</th>\n",
       "      <td>1</td>\n",
       "      <td>1</td>\n",
       "      <td>38</td>\n",
       "      <td>1</td>\n",
       "      <td>1.0</td>\n",
       "      <td>22.0</td>\n",
       "      <td>3587</td>\n",
       "      <td>3</td>\n",
       "      <td>3.0</td>\n",
       "      <td>3</td>\n",
       "      <td>3</td>\n",
       "      <td>3</td>\n",
       "      <td>NaN</td>\n",
       "      <td>NaN</td>\n",
       "      <td>NaN</td>\n",
       "      <td>NaN</td>\n",
       "    </tr>\n",
       "    <tr>\n",
       "      <th>1</th>\n",
       "      <td>2</td>\n",
       "      <td>1</td>\n",
       "      <td>29</td>\n",
       "      <td>2</td>\n",
       "      <td>2.0</td>\n",
       "      <td>10.0</td>\n",
       "      <td>2963</td>\n",
       "      <td>1</td>\n",
       "      <td>5.0</td>\n",
       "      <td>2</td>\n",
       "      <td>1</td>\n",
       "      <td>3</td>\n",
       "      <td>NaN</td>\n",
       "      <td>NaN</td>\n",
       "      <td>NaN</td>\n",
       "      <td>NaN</td>\n",
       "    </tr>\n",
       "    <tr>\n",
       "      <th>2</th>\n",
       "      <td>3</td>\n",
       "      <td>1</td>\n",
       "      <td>30</td>\n",
       "      <td>1</td>\n",
       "      <td>1.0</td>\n",
       "      <td>7.0</td>\n",
       "      <td>1989</td>\n",
       "      <td>3</td>\n",
       "      <td>4.0</td>\n",
       "      <td>1</td>\n",
       "      <td>1</td>\n",
       "      <td>3</td>\n",
       "      <td>1.0</td>\n",
       "      <td>NaN</td>\n",
       "      <td>NaN</td>\n",
       "      <td>NaN</td>\n",
       "    </tr>\n",
       "    <tr>\n",
       "      <th>3</th>\n",
       "      <td>4</td>\n",
       "      <td>1</td>\n",
       "      <td>36</td>\n",
       "      <td>2</td>\n",
       "      <td>1.0</td>\n",
       "      <td>14.0</td>\n",
       "      <td>2144</td>\n",
       "      <td>3</td>\n",
       "      <td>3.0</td>\n",
       "      <td>3</td>\n",
       "      <td>3</td>\n",
       "      <td>3</td>\n",
       "      <td>1.0</td>\n",
       "      <td>NaN</td>\n",
       "      <td>NaN</td>\n",
       "      <td>NaN</td>\n",
       "    </tr>\n",
       "    <tr>\n",
       "      <th>4</th>\n",
       "      <td>5</td>\n",
       "      <td>1</td>\n",
       "      <td>24</td>\n",
       "      <td>1</td>\n",
       "      <td>2.0</td>\n",
       "      <td>4.0</td>\n",
       "      <td>2183</td>\n",
       "      <td>2</td>\n",
       "      <td>3.0</td>\n",
       "      <td>2</td>\n",
       "      <td>1</td>\n",
       "      <td>2</td>\n",
       "      <td>1.0</td>\n",
       "      <td>NaN</td>\n",
       "      <td>NaN</td>\n",
       "      <td>NaN</td>\n",
       "    </tr>\n",
       "  </tbody>\n",
       "</table>\n",
       "</div>"
      ],
      "text/plain": [
       "   nro  sukup  ikä  perhe  koulutus  palveluv  palkka  johto  työtov  työymp  \\\n",
       "0    1      1   38      1       1.0      22.0    3587      3     3.0       3   \n",
       "1    2      1   29      2       2.0      10.0    2963      1     5.0       2   \n",
       "2    3      1   30      1       1.0       7.0    1989      3     4.0       1   \n",
       "3    4      1   36      2       1.0      14.0    2144      3     3.0       3   \n",
       "4    5      1   24      1       2.0       4.0    2183      2     3.0       2   \n",
       "\n",
       "   palkkat  työteht  työterv  lomaosa  kuntosa  hieroja  \n",
       "0        3        3      NaN      NaN      NaN      NaN  \n",
       "1        1        3      NaN      NaN      NaN      NaN  \n",
       "2        1        3      1.0      NaN      NaN      NaN  \n",
       "3        3        3      1.0      NaN      NaN      NaN  \n",
       "4        1        2      1.0      NaN      NaN      NaN  "
      ]
     },
     "execution_count": 5,
     "metadata": {},
     "output_type": "execute_result"
    }
   ],
   "source": [
    "df = pd.read_excel(\"http://taanila.fi/data1.xlsx\", sheetname = \"Data\")\n",
    "df.head()"
   ]
  },
  {
   "cell_type": "code",
   "execution_count": 6,
   "metadata": {
    "collapsed": true
   },
   "outputs": [],
   "source": [
    "koulutus = [\"peruskoulu\",\"2. aste\", \"Korkeakoulu\", \"Ylempi korkeakoulu\"]\n",
    "perhe= [\"Perheetön\", \"Perheelinen\"]\n",
    "sukup = [\"Mies\", \"Nainen\"]\n",
    "tyytyväisyys = [\"Erittäin tyytymätön\", \"Jokseenkin tyytymätön\", \"Ei tyytymätön eikä tyytyväinen\", \"Jokseenkin tyytyväinen\",\n",
    "               \"Erittäin tyytyväinen\"]"
   ]
  },
  {
   "cell_type": "code",
   "execution_count": 8,
   "metadata": {},
   "outputs": [
    {
     "data": {
      "text/html": [
       "<div>\n",
       "<style>\n",
       "    .dataframe thead tr:only-child th {\n",
       "        text-align: right;\n",
       "    }\n",
       "\n",
       "    .dataframe thead th {\n",
       "        text-align: left;\n",
       "    }\n",
       "\n",
       "    .dataframe tbody tr th {\n",
       "        vertical-align: top;\n",
       "    }\n",
       "</style>\n",
       "<table border=\"1\" class=\"dataframe\">\n",
       "  <thead>\n",
       "    <tr style=\"text-align: right;\">\n",
       "      <th></th>\n",
       "      <th>lkm</th>\n",
       "    </tr>\n",
       "  </thead>\n",
       "  <tbody>\n",
       "    <tr>\n",
       "      <th>peruskoulu</th>\n",
       "      <td>27</td>\n",
       "    </tr>\n",
       "    <tr>\n",
       "      <th>2. aste</th>\n",
       "      <td>30</td>\n",
       "    </tr>\n",
       "    <tr>\n",
       "      <th>Korkeakoulu</th>\n",
       "      <td>22</td>\n",
       "    </tr>\n",
       "    <tr>\n",
       "      <th>Ylempi korkeakoulu</th>\n",
       "      <td>2</td>\n",
       "    </tr>\n",
       "  </tbody>\n",
       "</table>\n",
       "</div>"
      ],
      "text/plain": [
       "                    lkm\n",
       "peruskoulu           27\n",
       "2. aste              30\n",
       "Korkeakoulu          22\n",
       "Ylempi korkeakoulu    2"
      ]
     },
     "execution_count": 8,
     "metadata": {},
     "output_type": "execute_result"
    }
   ],
   "source": [
    "df1 = pd.crosstab(df[\"koulutus\"], \"lkm\")\n",
    "df1.index = koulutus\n",
    "df1.columns.name = \"\"\n",
    "df1"
   ]
  },
  {
   "cell_type": "code",
   "execution_count": 14,
   "metadata": {},
   "outputs": [
    {
     "data": {
      "text/html": [
       "<style  type=\"text/css\" >\n",
       "</style>  \n",
       "<table id=\"T_436f69f4_248b_11e9_8fb9_5ce0c524cbcd\" > \n",
       "<thead>    <tr> \n",
       "        <th class=\"index_name level0\" ></th> \n",
       "        <th class=\"col_heading level0 col0\" >lkm</th> \n",
       "        <th class=\"col_heading level0 col1\" >%</th> \n",
       "    </tr></thead> \n",
       "<tbody>    <tr> \n",
       "        <th id=\"T_436f69f4_248b_11e9_8fb9_5ce0c524cbcdlevel0_row0\" class=\"row_heading level0 row0\" >peruskoulu</th> \n",
       "        <td id=\"T_436f69f4_248b_11e9_8fb9_5ce0c524cbcdrow0_col0\" class=\"data row0 col0\" >27</td> \n",
       "        <td id=\"T_436f69f4_248b_11e9_8fb9_5ce0c524cbcdrow0_col1\" class=\"data row0 col1\" >33.3%</td> \n",
       "    </tr>    <tr> \n",
       "        <th id=\"T_436f69f4_248b_11e9_8fb9_5ce0c524cbcdlevel0_row1\" class=\"row_heading level0 row1\" >2. aste</th> \n",
       "        <td id=\"T_436f69f4_248b_11e9_8fb9_5ce0c524cbcdrow1_col0\" class=\"data row1 col0\" >30</td> \n",
       "        <td id=\"T_436f69f4_248b_11e9_8fb9_5ce0c524cbcdrow1_col1\" class=\"data row1 col1\" >37.0%</td> \n",
       "    </tr>    <tr> \n",
       "        <th id=\"T_436f69f4_248b_11e9_8fb9_5ce0c524cbcdlevel0_row2\" class=\"row_heading level0 row2\" >Korkeakoulu</th> \n",
       "        <td id=\"T_436f69f4_248b_11e9_8fb9_5ce0c524cbcdrow2_col0\" class=\"data row2 col0\" >22</td> \n",
       "        <td id=\"T_436f69f4_248b_11e9_8fb9_5ce0c524cbcdrow2_col1\" class=\"data row2 col1\" >27.2%</td> \n",
       "    </tr>    <tr> \n",
       "        <th id=\"T_436f69f4_248b_11e9_8fb9_5ce0c524cbcdlevel0_row3\" class=\"row_heading level0 row3\" >Ylempi korkeakoulu</th> \n",
       "        <td id=\"T_436f69f4_248b_11e9_8fb9_5ce0c524cbcdrow3_col0\" class=\"data row3 col0\" >2</td> \n",
       "        <td id=\"T_436f69f4_248b_11e9_8fb9_5ce0c524cbcdrow3_col1\" class=\"data row3 col1\" >2.5%</td> \n",
       "    </tr></tbody> \n",
       "</table> "
      ],
      "text/plain": [
       "<pandas.io.formats.style.Styler at 0x23c91cbdc50>"
      ]
     },
     "execution_count": 14,
     "metadata": {},
     "output_type": "execute_result"
    }
   ],
   "source": [
    "df1[\"%\"] = df1/df1.sum()\n",
    "df1.style.format({\"%\" : \"{:.1%}\"})"
   ]
  },
  {
   "cell_type": "code",
   "execution_count": 21,
   "metadata": {},
   "outputs": [
    {
     "data": {
      "text/plain": [
       "[Text(0,0,'0%'),\n",
       " Text(0,0,'5%'),\n",
       " Text(0,0,'10%'),\n",
       " Text(0,0,'15%'),\n",
       " Text(0,0,'20%'),\n",
       " Text(0,0,'25%'),\n",
       " Text(0,0,'30%'),\n",
       " Text(0,0,'35%'),\n",
       " Text(0,0,'40%')]"
      ]
     },
     "execution_count": 21,
     "metadata": {},
     "output_type": "execute_result"
    },
    {
     "data": {
      "image/png": "[encoded data removed]",
      "text/plain": [
       "<matplotlib.figure.Figure at 0x23c91ea72b0>"
      ]
     },
     "metadata": {},
     "output_type": "display_data"
    }
   ],
   "source": [
    "ax = df1[\"%\"].plot.barh(color = \"C1\")\n",
    "vals = ax.get_xticks()\n",
    "ax.set_xticklabels([\"{:.0%}\".format(x) for x in vals])"
   ]
  },
  {
   "cell_type": "code",
   "execution_count": 22,
   "metadata": {},
   "outputs": [
    {
     "data": {
      "text/html": [
       "<div>\n",
       "<style>\n",
       "    .dataframe thead tr:only-child th {\n",
       "        text-align: right;\n",
       "    }\n",
       "\n",
       "    .dataframe thead th {\n",
       "        text-align: left;\n",
       "    }\n",
       "\n",
       "    .dataframe tbody tr th {\n",
       "        vertical-align: top;\n",
       "    }\n",
       "</style>\n",
       "<table border=\"1\" class=\"dataframe\">\n",
       "  <thead>\n",
       "    <tr style=\"text-align: right;\">\n",
       "      <th></th>\n",
       "      <th>lkm</th>\n",
       "    </tr>\n",
       "  </thead>\n",
       "  <tbody>\n",
       "    <tr>\n",
       "      <th>työterv</th>\n",
       "      <td>47</td>\n",
       "    </tr>\n",
       "    <tr>\n",
       "      <th>hieroja</th>\n",
       "      <td>22</td>\n",
       "    </tr>\n",
       "    <tr>\n",
       "      <th>lomaosa</th>\n",
       "      <td>20</td>\n",
       "    </tr>\n",
       "    <tr>\n",
       "      <th>kuntosa</th>\n",
       "      <td>9</td>\n",
       "    </tr>\n",
       "  </tbody>\n",
       "</table>\n",
       "</div>"
      ],
      "text/plain": [
       "         lkm\n",
       "työterv   47\n",
       "hieroja   22\n",
       "lomaosa   20\n",
       "kuntosa    9"
      ]
     },
     "execution_count": 22,
     "metadata": {},
     "output_type": "execute_result"
    }
   ],
   "source": [
    "df2 = df[[\"työterv\", \"lomaosa\", \"kuntosa\", \"hieroja\"]].count()\n",
    "df2 = df2.to_frame(\"lkm\").sort_values(by=\"lkm\", ascending=False)\n",
    "df2"
   ]
  },
  {
   "cell_type": "code",
   "execution_count": 25,
   "metadata": {},
   "outputs": [
    {
     "data": {
      "text/plain": [
       "Text(0.5,0,'Käyttäjien lukumäärä')"
      ]
     },
     "execution_count": 25,
     "metadata": {},
     "output_type": "execute_result"
    },
    {
     "data": {
      "image/png": "[encoded data removed]",
      "text/plain": [
       "<matplotlib.figure.Figure at 0x23c91c117f0>"
      ]
     },
     "metadata": {},
     "output_type": "display_data"
    }
   ],
   "source": [
    "df2.sort_values(by=\"lkm\").plot.barh(legend=False, color=\"C1\")\n",
    "plt.xlabel(\"Käyttäjien lukumäärä\")"
   ]
  },
  {
   "cell_type": "code",
   "execution_count": 26,
   "metadata": {},
   "outputs": [
    {
     "data": {
      "text/html": [
       "<div>\n",
       "<style>\n",
       "    .dataframe thead tr:only-child th {\n",
       "        text-align: right;\n",
       "    }\n",
       "\n",
       "    .dataframe thead th {\n",
       "        text-align: left;\n",
       "    }\n",
       "\n",
       "    .dataframe tbody tr th {\n",
       "        vertical-align: top;\n",
       "    }\n",
       "</style>\n",
       "<table border=\"1\" class=\"dataframe\">\n",
       "  <thead>\n",
       "    <tr style=\"text-align: right;\">\n",
       "      <th></th>\n",
       "      <th>työterv</th>\n",
       "      <th>lomaosa</th>\n",
       "      <th>kuntosa</th>\n",
       "      <th>hieroja</th>\n",
       "    </tr>\n",
       "  </thead>\n",
       "  <tbody>\n",
       "    <tr>\n",
       "      <th>Mies</th>\n",
       "      <td>35</td>\n",
       "      <td>16</td>\n",
       "      <td>8</td>\n",
       "      <td>13</td>\n",
       "    </tr>\n",
       "    <tr>\n",
       "      <th>Nainen</th>\n",
       "      <td>12</td>\n",
       "      <td>4</td>\n",
       "      <td>1</td>\n",
       "      <td>9</td>\n",
       "    </tr>\n",
       "  </tbody>\n",
       "</table>\n",
       "</div>"
      ],
      "text/plain": [
       "        työterv  lomaosa  kuntosa  hieroja\n",
       "Mies         35       16        8       13\n",
       "Nainen       12        4        1        9"
      ]
     },
     "execution_count": 26,
     "metadata": {},
     "output_type": "execute_result"
    }
   ],
   "source": [
    "df3 = df.groupby(\"sukup\")[\"työterv\", \"lomaosa\", \"kuntosa\", \"hieroja\"].count()\n",
    "df3.index = sukup\n",
    "df3"
   ]
  },
  {
   "cell_type": "code",
   "execution_count": 28,
   "metadata": {},
   "outputs": [
    {
     "data": {
      "text/plain": [
       "Text(0.5,0,'käyttäjien lukumäärä')"
      ]
     },
     "execution_count": 28,
     "metadata": {},
     "output_type": "execute_result"
    },
    {
     "data": {
      "image/png": "[encoded data removed]",
      "text/plain": [
       "<matplotlib.figure.Figure at 0x23c933121d0>"
      ]
     },
     "metadata": {},
     "output_type": "display_data"
    }
   ],
   "source": [
    "df3.plot.barh()\n",
    "plt.xlabel(\"käyttäjien lukumäärä\")"
   ]
  },
  {
   "cell_type": "code",
   "execution_count": 29,
   "metadata": {},
   "outputs": [
    {
     "data": {
      "text/plain": [
       "sukup\n",
       "1    62\n",
       "2    19\n",
       "Name: koulutus, dtype: int64"
      ]
     },
     "execution_count": 29,
     "metadata": {},
     "output_type": "execute_result"
    }
   ],
   "source": [
    "dfn=df.groupby(\"sukup\")[\"koulutus\"].count()\n",
    "dfn"
   ]
  },
  {
   "cell_type": "code",
   "execution_count": 34,
   "metadata": {},
   "outputs": [
    {
     "data": {
      "text/html": [
       "<style  type=\"text/css\" >\n",
       "</style>  \n",
       "<table id=\"T_91c2e2a4_2491_11e9_bfab_5ce0c524cbcd\" > \n",
       "<thead>    <tr> \n",
       "        <th class=\"blank level0\" ></th> \n",
       "        <th class=\"col_heading level0 col0\" >Mies (n=62)</th> \n",
       "        <th class=\"col_heading level0 col1\" >Nainen (n=19)</th> \n",
       "    </tr></thead> \n",
       "<tbody>    <tr> \n",
       "        <th id=\"T_91c2e2a4_2491_11e9_bfab_5ce0c524cbcdlevel0_row0\" class=\"row_heading level0 row0\" >peruskoulu</th> \n",
       "        <td id=\"T_91c2e2a4_2491_11e9_bfab_5ce0c524cbcdrow0_col0\" class=\"data row0 col0\" >35.5%</td> \n",
       "        <td id=\"T_91c2e2a4_2491_11e9_bfab_5ce0c524cbcdrow0_col1\" class=\"data row0 col1\" >26.3%</td> \n",
       "    </tr>    <tr> \n",
       "        <th id=\"T_91c2e2a4_2491_11e9_bfab_5ce0c524cbcdlevel0_row1\" class=\"row_heading level0 row1\" >2. aste</th> \n",
       "        <td id=\"T_91c2e2a4_2491_11e9_bfab_5ce0c524cbcdrow1_col0\" class=\"data row1 col0\" >37.1%</td> \n",
       "        <td id=\"T_91c2e2a4_2491_11e9_bfab_5ce0c524cbcdrow1_col1\" class=\"data row1 col1\" >36.8%</td> \n",
       "    </tr>    <tr> \n",
       "        <th id=\"T_91c2e2a4_2491_11e9_bfab_5ce0c524cbcdlevel0_row2\" class=\"row_heading level0 row2\" >Korkeakoulu</th> \n",
       "        <td id=\"T_91c2e2a4_2491_11e9_bfab_5ce0c524cbcdrow2_col0\" class=\"data row2 col0\" >24.2%</td> \n",
       "        <td id=\"T_91c2e2a4_2491_11e9_bfab_5ce0c524cbcdrow2_col1\" class=\"data row2 col1\" >36.8%</td> \n",
       "    </tr>    <tr> \n",
       "        <th id=\"T_91c2e2a4_2491_11e9_bfab_5ce0c524cbcdlevel0_row3\" class=\"row_heading level0 row3\" >Ylempi korkeakoulu</th> \n",
       "        <td id=\"T_91c2e2a4_2491_11e9_bfab_5ce0c524cbcdrow3_col0\" class=\"data row3 col0\" >3.2%</td> \n",
       "        <td id=\"T_91c2e2a4_2491_11e9_bfab_5ce0c524cbcdrow3_col1\" class=\"data row3 col1\" >0.0%</td> \n",
       "    </tr></tbody> \n",
       "</table> "
      ],
      "text/plain": [
       "<pandas.io.formats.style.Styler at 0x23c93e02be0>"
      ]
     },
     "execution_count": 34,
     "metadata": {},
     "output_type": "execute_result"
    }
   ],
   "source": [
    "df4 = pd.crosstab(df[\"koulutus\"], df[\"sukup\"], normalize=\"columns\")\n",
    "df4.index = koulutus\n",
    "mies=\"Mies (n=\"+str(dfn[1])+\")\"\n",
    "nainen=\"Nainen (n=\"+str(dfn[2])+\")\"\n",
    "df4.columns = [mies, nainen]\n",
    "df4.style.format(\"{:.1%}\")"
   ]
  },
  {
   "cell_type": "code",
   "execution_count": 37,
   "metadata": {},
   "outputs": [
    {
     "data": {
      "text/plain": [
       "Text(0.5,0,'Prosenttia sukupuolesta')"
      ]
     },
     "execution_count": 37,
     "metadata": {},
     "output_type": "execute_result"
    },
    {
     "data": {
      "image/png": "[encoded data removed]",
      "text/plain": [
       "<matplotlib.figure.Figure at 0x23c93e3d7b8>"
      ]
     },
     "metadata": {},
     "output_type": "display_data"
    }
   ],
   "source": [
    "ax = df4.plot.barh()\n",
    "vals = ax.get_xticks()\n",
    "ax.set_xticklabels([\"{:.0%}\".format(x) for x in vals])\n",
    "plt.xlabel(\"Prosenttia sukupuolesta\")"
   ]
  },
  {
   "cell_type": "code",
   "execution_count": 38,
   "metadata": {},
   "outputs": [
    {
     "data": {
      "text/html": [
       "<style  type=\"text/css\" >\n",
       "</style>  \n",
       "<table id=\"T_59709580_2493_11e9_b3b6_5ce0c524cbcd\" > \n",
       "<thead>    <tr> \n",
       "        <th class=\"blank level0\" ></th> \n",
       "        <th class=\"col_heading level0 col0\" >johto</th> \n",
       "        <th class=\"col_heading level0 col1\" >työtov</th> \n",
       "        <th class=\"col_heading level0 col2\" >työymp</th> \n",
       "        <th class=\"col_heading level0 col3\" >palkkat</th> \n",
       "        <th class=\"col_heading level0 col4\" >työteht</th> \n",
       "    </tr></thead> \n",
       "<tbody>    <tr> \n",
       "        <th id=\"T_59709580_2493_11e9_b3b6_5ce0c524cbcdlevel0_row0\" class=\"row_heading level0 row0\" >Erittäin tyytymätön</th> \n",
       "        <td id=\"T_59709580_2493_11e9_b3b6_5ce0c524cbcdrow0_col0\" class=\"data row0 col0\" >8.5%</td> \n",
       "        <td id=\"T_59709580_2493_11e9_b3b6_5ce0c524cbcdrow0_col1\" class=\"data row0 col1\" >nan%</td> \n",
       "        <td id=\"T_59709580_2493_11e9_b3b6_5ce0c524cbcdrow0_col2\" class=\"data row0 col2\" >8.5%</td> \n",
       "        <td id=\"T_59709580_2493_11e9_b3b6_5ce0c524cbcdrow0_col3\" class=\"data row0 col3\" >40.2%</td> \n",
       "        <td id=\"T_59709580_2493_11e9_b3b6_5ce0c524cbcdrow0_col4\" class=\"data row0 col4\" >6.1%</td> \n",
       "    </tr>    <tr> \n",
       "        <th id=\"T_59709580_2493_11e9_b3b6_5ce0c524cbcdlevel0_row1\" class=\"row_heading level0 row1\" >Jokseenkin tyytymätön</th> \n",
       "        <td id=\"T_59709580_2493_11e9_b3b6_5ce0c524cbcdrow1_col0\" class=\"data row1 col0\" >19.5%</td> \n",
       "        <td id=\"T_59709580_2493_11e9_b3b6_5ce0c524cbcdrow1_col1\" class=\"data row1 col1\" >3.7%</td> \n",
       "        <td id=\"T_59709580_2493_11e9_b3b6_5ce0c524cbcdrow1_col2\" class=\"data row1 col2\" >19.5%</td> \n",
       "        <td id=\"T_59709580_2493_11e9_b3b6_5ce0c524cbcdrow1_col3\" class=\"data row1 col3\" >23.2%</td> \n",
       "        <td id=\"T_59709580_2493_11e9_b3b6_5ce0c524cbcdrow1_col4\" class=\"data row1 col4\" >18.3%</td> \n",
       "    </tr>    <tr> \n",
       "        <th id=\"T_59709580_2493_11e9_b3b6_5ce0c524cbcdlevel0_row2\" class=\"row_heading level0 row2\" >Ei tyytymätön eikä tyytyväinen</th> \n",
       "        <td id=\"T_59709580_2493_11e9_b3b6_5ce0c524cbcdrow2_col0\" class=\"data row2 col0\" >36.6%</td> \n",
       "        <td id=\"T_59709580_2493_11e9_b3b6_5ce0c524cbcdrow2_col1\" class=\"data row2 col1\" >19.8%</td> \n",
       "        <td id=\"T_59709580_2493_11e9_b3b6_5ce0c524cbcdrow2_col2\" class=\"data row2 col2\" >36.6%</td> \n",
       "        <td id=\"T_59709580_2493_11e9_b3b6_5ce0c524cbcdrow2_col3\" class=\"data row2 col3\" >23.2%</td> \n",
       "        <td id=\"T_59709580_2493_11e9_b3b6_5ce0c524cbcdrow2_col4\" class=\"data row2 col4\" >35.4%</td> \n",
       "    </tr>    <tr> \n",
       "        <th id=\"T_59709580_2493_11e9_b3b6_5ce0c524cbcdlevel0_row3\" class=\"row_heading level0 row3\" >Jokseenkin tyytyväinen</th> \n",
       "        <td id=\"T_59709580_2493_11e9_b3b6_5ce0c524cbcdrow3_col0\" class=\"data row3 col0\" >28.0%</td> \n",
       "        <td id=\"T_59709580_2493_11e9_b3b6_5ce0c524cbcdrow3_col1\" class=\"data row3 col1\" >43.2%</td> \n",
       "        <td id=\"T_59709580_2493_11e9_b3b6_5ce0c524cbcdrow3_col2\" class=\"data row3 col2\" >28.0%</td> \n",
       "        <td id=\"T_59709580_2493_11e9_b3b6_5ce0c524cbcdrow3_col3\" class=\"data row3 col3\" >12.2%</td> \n",
       "        <td id=\"T_59709580_2493_11e9_b3b6_5ce0c524cbcdrow3_col4\" class=\"data row3 col4\" >30.5%</td> \n",
       "    </tr>    <tr> \n",
       "        <th id=\"T_59709580_2493_11e9_b3b6_5ce0c524cbcdlevel0_row4\" class=\"row_heading level0 row4\" >Erittäin tyytyväinen</th> \n",
       "        <td id=\"T_59709580_2493_11e9_b3b6_5ce0c524cbcdrow4_col0\" class=\"data row4 col0\" >7.3%</td> \n",
       "        <td id=\"T_59709580_2493_11e9_b3b6_5ce0c524cbcdrow4_col1\" class=\"data row4 col1\" >33.3%</td> \n",
       "        <td id=\"T_59709580_2493_11e9_b3b6_5ce0c524cbcdrow4_col2\" class=\"data row4 col2\" >7.3%</td> \n",
       "        <td id=\"T_59709580_2493_11e9_b3b6_5ce0c524cbcdrow4_col3\" class=\"data row4 col3\" >1.2%</td> \n",
       "        <td id=\"T_59709580_2493_11e9_b3b6_5ce0c524cbcdrow4_col4\" class=\"data row4 col4\" >9.8%</td> \n",
       "    </tr></tbody> \n",
       "</table> "
      ],
      "text/plain": [
       "<pandas.io.formats.style.Styler at 0x23c93c21160>"
      ]
     },
     "execution_count": 38,
     "metadata": {},
     "output_type": "execute_result"
    }
   ],
   "source": [
    "df5 = df[\"johto\"].value_counts(sort = False, normalize = True).to_frame()\n",
    "df5[\"työtov\"] = df[\"työtov\"].value_counts(sort = False, normalize = True)\n",
    "df5[\"työymp\"] = df[\"johto\"].value_counts(sort = False, normalize = True)\n",
    "df5[\"palkkat\"] = df[\"palkkat\"].value_counts(sort = False, normalize = True)\n",
    "df5[\"työteht\"] =df[\"työteht\"].value_counts(sort = False, normalize = True)\n",
    "df5.index = tyytyväisyys\n",
    "df5.style.format(\"{:.1%}\")\n"
   ]
  },
  {
   "cell_type": "code",
   "execution_count": 39,
   "metadata": {},
   "outputs": [
    {
     "data": {
      "image/png": "[encoded data removed]",
      "text/plain": [
       "<matplotlib.figure.Figure at 0x23c93ed7c18>"
      ]
     },
     "metadata": {},
     "output_type": "display_data"
    }
   ],
   "source": [
    "ax = df5.transpose().plot.barh(stacked = True)"
   ]
  },
  {
   "cell_type": "code",
   "execution_count": 41,
   "metadata": {},
   "outputs": [
    {
     "data": {
      "text/html": [
       "<div>\n",
       "<style>\n",
       "    .dataframe thead tr:only-child th {\n",
       "        text-align: right;\n",
       "    }\n",
       "\n",
       "    .dataframe thead th {\n",
       "        text-align: left;\n",
       "    }\n",
       "\n",
       "    .dataframe tbody tr th {\n",
       "        vertical-align: top;\n",
       "    }\n",
       "</style>\n",
       "<table border=\"1\" class=\"dataframe\">\n",
       "  <thead>\n",
       "    <tr style=\"text-align: right;\">\n",
       "      <th></th>\n",
       "      <th>lkm</th>\n",
       "    </tr>\n",
       "    <tr>\n",
       "      <th>palkkaluokka</th>\n",
       "      <th></th>\n",
       "    </tr>\n",
       "  </thead>\n",
       "  <tbody>\n",
       "    <tr>\n",
       "      <th>(1000, 2000]</th>\n",
       "      <td>19</td>\n",
       "    </tr>\n",
       "    <tr>\n",
       "      <th>(2000, 3000]</th>\n",
       "      <td>50</td>\n",
       "    </tr>\n",
       "    <tr>\n",
       "      <th>(3000, 4000]</th>\n",
       "      <td>8</td>\n",
       "    </tr>\n",
       "    <tr>\n",
       "      <th>(4000, 7000]</th>\n",
       "      <td>5</td>\n",
       "    </tr>\n",
       "  </tbody>\n",
       "</table>\n",
       "</div>"
      ],
      "text/plain": [
       "              lkm\n",
       "palkkaluokka     \n",
       "(1000, 2000]   19\n",
       "(2000, 3000]   50\n",
       "(3000, 4000]    8\n",
       "(4000, 7000]    5"
      ]
     },
     "execution_count": 41,
     "metadata": {},
     "output_type": "execute_result"
    }
   ],
   "source": [
    "bins = [1000,2000,3000,4000,7000]\n",
    "df[\"palkkaluokka\"] = pd.cut(df[\"palkka\"], bins=bins)\n",
    "df6 = pd.crosstab(df[\"palkkaluokka\"], \"lkm\")\n",
    "df6.columns.name = \"\"\n",
    "df6"
   ]
  },
  {
   "cell_type": "code",
   "execution_count": 42,
   "metadata": {},
   "outputs": [
    {
     "data": {
      "text/plain": [
       "Text(0,0.5,'Lukumäärä')"
      ]
     },
     "execution_count": 42,
     "metadata": {},
     "output_type": "execute_result"
    },
    {
     "data": {
      "image/png": "[encoded data removed]",
      "text/plain": [
       "<matplotlib.figure.Figure at 0x23c93edf128>"
      ]
     },
     "metadata": {},
     "output_type": "display_data"
    }
   ],
   "source": [
    "df[\"palkka\"].plot.hist(bins)\n",
    "plt.xlabel(\"Palkka\")\n",
    "plt.ylabel(\"Lukumäärä\")"
   ]
  },
  {
   "cell_type": "code",
   "execution_count": null,
   "metadata": {
    "collapsed": true
   },
   "outputs": [],
   "source": []
  }
 ],
 "metadata": {
  "kernelspec": {
   "display_name": "Python 3",
   "language": "python",
   "name": "python3"
  },
  "language_info": {
   "codemirror_mode": {
    "name": "ipython",
    "version": 3
   },
   "file_extension": ".py",
   "mimetype": "text/x-python",
   "name": "python",
   "nbconvert_exporter": "python",
   "pygments_lexer": "ipython3",
   "version": "3.6.3"
  }
 },
 "nbformat": 4,
 "nbformat_minor": 2
}
