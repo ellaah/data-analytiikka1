{
 "cells": [
  {
   "cell_type": "code",
   "execution_count": 1,
   "metadata": {
    "collapsed": true
   },
   "outputs": [],
   "source": [
    "import pandas as pd\n",
    "import matplotlib.pyplot as plt\n",
    "%matplotlib inline"
   ]
  },
  {
   "cell_type": "code",
   "execution_count": 2,
   "metadata": {
    "collapsed": true
   },
   "outputs": [],
   "source": [
    "plt.rcParams['font.sans-serif']='Arial'\n",
    "plt.rcParams['font.family']='sans-serif'"
   ]
  },
  {
   "cell_type": "code",
   "execution_count": 3,
   "metadata": {},
   "outputs": [
    {
     "data": {
      "text/html": [
       "<div>\n",
       "<style>\n",
       "    .dataframe thead tr:only-child th {\n",
       "        text-align: right;\n",
       "    }\n",
       "\n",
       "    .dataframe thead th {\n",
       "        text-align: left;\n",
       "    }\n",
       "\n",
       "    .dataframe tbody tr th {\n",
       "        vertical-align: top;\n",
       "    }\n",
       "</style>\n",
       "<table border=\"1\" class=\"dataframe\">\n",
       "  <thead>\n",
       "    <tr style=\"text-align: right;\">\n",
       "      <th></th>\n",
       "      <th>nro</th>\n",
       "      <th>1 syötkö</th>\n",
       "      <th>2 euroa</th>\n",
       "      <th>3 asiakas</th>\n",
       "      <th>4 hinta</th>\n",
       "      <th>5 radio</th>\n",
       "      <th>6 radio-ohjelma</th>\n",
       "      <th>7 uutiset</th>\n",
       "      <th>8 uutisaika</th>\n",
       "      <th>9 sanomalehti</th>\n",
       "      <th>...</th>\n",
       "      <th>19 koristeellinen</th>\n",
       "      <th>20 jousi</th>\n",
       "      <th>21 jazz</th>\n",
       "      <th>22 syntymä</th>\n",
       "      <th>23 koulutus</th>\n",
       "      <th>24 kotitalous</th>\n",
       "      <th>25 koko</th>\n",
       "      <th>26 asuinalue</th>\n",
       "      <th>27 tulot</th>\n",
       "      <th>28 sukupuoli</th>\n",
       "    </tr>\n",
       "  </thead>\n",
       "  <tbody>\n",
       "    <tr>\n",
       "      <th>0</th>\n",
       "      <td>1</td>\n",
       "      <td>1</td>\n",
       "      <td>245</td>\n",
       "      <td>3</td>\n",
       "      <td>20.0</td>\n",
       "      <td>1</td>\n",
       "      <td>1.0</td>\n",
       "      <td>1</td>\n",
       "      <td>4.0</td>\n",
       "      <td>1</td>\n",
       "      <td>...</td>\n",
       "      <td>5</td>\n",
       "      <td>5</td>\n",
       "      <td>3</td>\n",
       "      <td>1968</td>\n",
       "      <td>5</td>\n",
       "      <td>2</td>\n",
       "      <td>2</td>\n",
       "      <td>2</td>\n",
       "      <td>7</td>\n",
       "      <td>2</td>\n",
       "    </tr>\n",
       "    <tr>\n",
       "      <th>1</th>\n",
       "      <td>2</td>\n",
       "      <td>1</td>\n",
       "      <td>110</td>\n",
       "      <td>3</td>\n",
       "      <td>11.0</td>\n",
       "      <td>1</td>\n",
       "      <td>3.0</td>\n",
       "      <td>1</td>\n",
       "      <td>4.0</td>\n",
       "      <td>1</td>\n",
       "      <td>...</td>\n",
       "      <td>1</td>\n",
       "      <td>2</td>\n",
       "      <td>4</td>\n",
       "      <td>1986</td>\n",
       "      <td>5</td>\n",
       "      <td>1</td>\n",
       "      <td>1</td>\n",
       "      <td>3</td>\n",
       "      <td>4</td>\n",
       "      <td>2</td>\n",
       "    </tr>\n",
       "    <tr>\n",
       "      <th>2</th>\n",
       "      <td>3</td>\n",
       "      <td>1</td>\n",
       "      <td>300</td>\n",
       "      <td>4</td>\n",
       "      <td>25.0</td>\n",
       "      <td>1</td>\n",
       "      <td>4.0</td>\n",
       "      <td>1</td>\n",
       "      <td>4.0</td>\n",
       "      <td>1</td>\n",
       "      <td>...</td>\n",
       "      <td>4</td>\n",
       "      <td>5</td>\n",
       "      <td>3</td>\n",
       "      <td>1978</td>\n",
       "      <td>6</td>\n",
       "      <td>2</td>\n",
       "      <td>2</td>\n",
       "      <td>2</td>\n",
       "      <td>7</td>\n",
       "      <td>2</td>\n",
       "    </tr>\n",
       "    <tr>\n",
       "      <th>3</th>\n",
       "      <td>4</td>\n",
       "      <td>1</td>\n",
       "      <td>135</td>\n",
       "      <td>3</td>\n",
       "      <td>15.0</td>\n",
       "      <td>1</td>\n",
       "      <td>3.0</td>\n",
       "      <td>1</td>\n",
       "      <td>4.0</td>\n",
       "      <td>1</td>\n",
       "      <td>...</td>\n",
       "      <td>2</td>\n",
       "      <td>1</td>\n",
       "      <td>4</td>\n",
       "      <td>1984</td>\n",
       "      <td>5</td>\n",
       "      <td>2</td>\n",
       "      <td>2</td>\n",
       "      <td>3</td>\n",
       "      <td>3</td>\n",
       "      <td>2</td>\n",
       "    </tr>\n",
       "    <tr>\n",
       "      <th>4</th>\n",
       "      <td>5</td>\n",
       "      <td>1</td>\n",
       "      <td>160</td>\n",
       "      <td>4</td>\n",
       "      <td>17.0</td>\n",
       "      <td>1</td>\n",
       "      <td>4.0</td>\n",
       "      <td>1</td>\n",
       "      <td>1.0</td>\n",
       "      <td>1</td>\n",
       "      <td>...</td>\n",
       "      <td>1</td>\n",
       "      <td>2</td>\n",
       "      <td>5</td>\n",
       "      <td>1981</td>\n",
       "      <td>5</td>\n",
       "      <td>2</td>\n",
       "      <td>2</td>\n",
       "      <td>3</td>\n",
       "      <td>4</td>\n",
       "      <td>1</td>\n",
       "    </tr>\n",
       "  </tbody>\n",
       "</table>\n",
       "<p>5 rows × 29 columns</p>\n",
       "</div>"
      ],
      "text/plain": [
       "   nro  1 syötkö  2 euroa  3 asiakas  4 hinta  5 radio  6 radio-ohjelma  \\\n",
       "0    1         1      245          3     20.0        1              1.0   \n",
       "1    2         1      110          3     11.0        1              3.0   \n",
       "2    3         1      300          4     25.0        1              4.0   \n",
       "3    4         1      135          3     15.0        1              3.0   \n",
       "4    5         1      160          4     17.0        1              4.0   \n",
       "\n",
       "   7 uutiset  8 uutisaika  9 sanomalehti      ...       19 koristeellinen  \\\n",
       "0          1          4.0              1      ...                       5   \n",
       "1          1          4.0              1      ...                       1   \n",
       "2          1          4.0              1      ...                       4   \n",
       "3          1          4.0              1      ...                       2   \n",
       "4          1          1.0              1      ...                       1   \n",
       "\n",
       "   20 jousi  21 jazz  22 syntymä  23 koulutus  24 kotitalous  25 koko  \\\n",
       "0         5        3        1968            5              2        2   \n",
       "1         2        4        1986            5              1        1   \n",
       "2         5        3        1978            6              2        2   \n",
       "3         1        4        1984            5              2        2   \n",
       "4         2        5        1981            5              2        2   \n",
       "\n",
       "   26 asuinalue  27 tulot  28 sukupuoli  \n",
       "0             2         7             2  \n",
       "1             3         4             2  \n",
       "2             2         7             2  \n",
       "3             3         3             2  \n",
       "4             3         4             1  \n",
       "\n",
       "[5 rows x 29 columns]"
      ]
     },
     "execution_count": 3,
     "metadata": {},
     "output_type": "execute_result"
    }
   ],
   "source": [
    "df=pd.read_excel('http://taanila.fi/t1aineisto.xlsx')\n",
    "df.head()"
   ]
  },
  {
   "cell_type": "code",
   "execution_count": 4,
   "metadata": {
    "collapsed": true
   },
   "outputs": [],
   "source": [
    "df['vastaaja']=df['3 asiakas'].replace({1:'Ei pot', 2:'Ei pot',\n",
    "                                       3:'Epävarma', 4:'Pot', 5:'Pot'})\n",
    "mielipiteet = ['Täysin erimieltä', 'Eri mieltä', 'Ei eri eikä samaa mieltä', 'Samaa mieltä', 'Täysin samaa mieltä']"
   ]
  },
  {
   "cell_type": "code",
   "execution_count": 5,
   "metadata": {},
   "outputs": [
    {
     "data": {
      "text/html": [
       "<style  type=\"text/css\" >\n",
       "</style>  \n",
       "<table id=\"T_7f0b1c58_5b83_11e9_a9ce_5ce0c524bfc0\" > \n",
       "<thead>    <tr> \n",
       "        <th class=\"index_name level0\" >vastaaja</th> \n",
       "        <th class=\"col_heading level0 col0\" >Ei pot</th> \n",
       "        <th class=\"col_heading level0 col1\" >Epävarma</th> \n",
       "        <th class=\"col_heading level0 col2\" >Pot</th> \n",
       "    </tr></thead> \n",
       "<tbody>    <tr> \n",
       "        <th id=\"T_7f0b1c58_5b83_11e9_a9ce_5ce0c524bfc0level0_row0\" class=\"row_heading level0 row0\" >Täysin erimieltä</th> \n",
       "        <td id=\"T_7f0b1c58_5b83_11e9_a9ce_5ce0c524bfc0row0_col0\" class=\"data row0 col0\" >59.7 %</td> \n",
       "        <td id=\"T_7f0b1c58_5b83_11e9_a9ce_5ce0c524bfc0row0_col1\" class=\"data row0 col1\" >49.7 %</td> \n",
       "        <td id=\"T_7f0b1c58_5b83_11e9_a9ce_5ce0c524bfc0row0_col2\" class=\"data row0 col2\" >1.8 %</td> \n",
       "    </tr>    <tr> \n",
       "        <th id=\"T_7f0b1c58_5b83_11e9_a9ce_5ce0c524bfc0level0_row1\" class=\"row_heading level0 row1\" >Eri mieltä</th> \n",
       "        <td id=\"T_7f0b1c58_5b83_11e9_a9ce_5ce0c524bfc0row1_col0\" class=\"data row1 col0\" >31.8 %</td> \n",
       "        <td id=\"T_7f0b1c58_5b83_11e9_a9ce_5ce0c524bfc0row1_col1\" class=\"data row1 col1\" >37.3 %</td> \n",
       "        <td id=\"T_7f0b1c58_5b83_11e9_a9ce_5ce0c524bfc0row1_col2\" class=\"data row1 col2\" >2.7 %</td> \n",
       "    </tr>    <tr> \n",
       "        <th id=\"T_7f0b1c58_5b83_11e9_a9ce_5ce0c524bfc0level0_row2\" class=\"row_heading level0 row2\" >Ei eri eikä samaa mieltä</th> \n",
       "        <td id=\"T_7f0b1c58_5b83_11e9_a9ce_5ce0c524bfc0row2_col0\" class=\"data row2 col0\" >3.1 %</td> \n",
       "        <td id=\"T_7f0b1c58_5b83_11e9_a9ce_5ce0c524bfc0row2_col1\" class=\"data row2 col1\" >8.1 %</td> \n",
       "        <td id=\"T_7f0b1c58_5b83_11e9_a9ce_5ce0c524bfc0row2_col2\" class=\"data row2 col2\" >0.0 %</td> \n",
       "    </tr>    <tr> \n",
       "        <th id=\"T_7f0b1c58_5b83_11e9_a9ce_5ce0c524bfc0level0_row3\" class=\"row_heading level0 row3\" >Samaa mieltä</th> \n",
       "        <td id=\"T_7f0b1c58_5b83_11e9_a9ce_5ce0c524bfc0row3_col0\" class=\"data row3 col0\" >1.6 %</td> \n",
       "        <td id=\"T_7f0b1c58_5b83_11e9_a9ce_5ce0c524bfc0row3_col1\" class=\"data row3 col1\" >2.5 %</td> \n",
       "        <td id=\"T_7f0b1c58_5b83_11e9_a9ce_5ce0c524bfc0row3_col2\" class=\"data row3 col2\" >44.5 %</td> \n",
       "    </tr>    <tr> \n",
       "        <th id=\"T_7f0b1c58_5b83_11e9_a9ce_5ce0c524bfc0level0_row4\" class=\"row_heading level0 row4\" >Täysin samaa mieltä</th> \n",
       "        <td id=\"T_7f0b1c58_5b83_11e9_a9ce_5ce0c524bfc0row4_col0\" class=\"data row4 col0\" >3.9 %</td> \n",
       "        <td id=\"T_7f0b1c58_5b83_11e9_a9ce_5ce0c524bfc0row4_col1\" class=\"data row4 col1\" >2.5 %</td> \n",
       "        <td id=\"T_7f0b1c58_5b83_11e9_a9ce_5ce0c524bfc0row4_col2\" class=\"data row4 col2\" >50.9 %</td> \n",
       "    </tr></tbody> \n",
       "</table> "
      ],
      "text/plain": [
       "<pandas.io.formats.style.Styler at 0x194b443d048>"
      ]
     },
     "execution_count": 5,
     "metadata": {},
     "output_type": "execute_result"
    }
   ],
   "source": [
    "df1=pd.crosstab(df['15 jälkiruoka'], df['vastaaja'],\n",
    "                normalize='columns')*100\n",
    "df1.index=mielipiteet\n",
    "df1.style.format('{:.1f} %')"
   ]
  },
  {
   "cell_type": "code",
   "execution_count": 8,
   "metadata": {},
   "outputs": [
    {
     "data": {
      "image/png": "[encoded data removed]",
      "text/plain": [
       "<matplotlib.figure.Figure at 0x194b648d3c8>"
      ]
     },
     "metadata": {},
     "output_type": "display_data"
    }
   ],
   "source": [
    "df.groupby(['vastaaja'])['4 hinta'].plot.hist()\n",
    "plt.legend()\n",
    "plt.xlabel('Aterian hinta')\n",
    "plt.ylabel('Lukumäärä')\n",
    "plt.savefig('kaavio1.png', bbox_inches='tight')"
   ]
  },
  {
   "cell_type": "code",
   "execution_count": null,
   "metadata": {
    "collapsed": true
   },
   "outputs": [],
   "source": []
  }
 ],
 "metadata": {
  "kernelspec": {
   "display_name": "Python 3",
   "language": "python",
   "name": "python3"
  },
  "language_info": {
   "codemirror_mode": {
    "name": "ipython",
    "version": 3
   },
   "file_extension": ".py",
   "mimetype": "text/x-python",
   "name": "python",
   "nbconvert_exporter": "python",
   "pygments_lexer": "ipython3",
   "version": "3.6.3"
  }
 },
 "nbformat": 4,
 "nbformat_minor": 2
}
