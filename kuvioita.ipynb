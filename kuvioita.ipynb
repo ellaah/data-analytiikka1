{
 "cells": [
  {
   "cell_type": "code",
   "execution_count": 1,
   "metadata": {
    "collapsed": true
   },
   "outputs": [],
   "source": [
    "import pandas as pd\n",
    "import matplotlib.pyplot as plt\n",
    "%matplotlib inline"
   ]
  },
  {
   "cell_type": "code",
   "execution_count": 3,
   "metadata": {},
   "outputs": [
    {
     "data": {
      "text/html": [
       "<div>\n",
       "<style>\n",
       "    .dataframe thead tr:only-child th {\n",
       "        text-align: right;\n",
       "    }\n",
       "\n",
       "    .dataframe thead th {\n",
       "        text-align: left;\n",
       "    }\n",
       "\n",
       "    .dataframe tbody tr th {\n",
       "        vertical-align: top;\n",
       "    }\n",
       "</style>\n",
       "<table border=\"1\" class=\"dataframe\">\n",
       "  <thead>\n",
       "    <tr style=\"text-align: right;\">\n",
       "      <th></th>\n",
       "      <th>Alue</th>\n",
       "      <th>Myynti</th>\n",
       "    </tr>\n",
       "  </thead>\n",
       "  <tbody>\n",
       "    <tr>\n",
       "      <th>0</th>\n",
       "      <td>Helsinki</td>\n",
       "      <td>13221847</td>\n",
       "    </tr>\n",
       "    <tr>\n",
       "      <th>1</th>\n",
       "      <td>Turku</td>\n",
       "      <td>852669</td>\n",
       "    </tr>\n",
       "    <tr>\n",
       "      <th>2</th>\n",
       "      <td>Tampere</td>\n",
       "      <td>10322199</td>\n",
       "    </tr>\n",
       "    <tr>\n",
       "      <th>3</th>\n",
       "      <td>Oulu</td>\n",
       "      <td>568230</td>\n",
       "    </tr>\n",
       "  </tbody>\n",
       "</table>\n",
       "</div>"
      ],
      "text/plain": [
       "       Alue    Myynti\n",
       "0  Helsinki  13221847\n",
       "1     Turku    852669\n",
       "2   Tampere  10322199\n",
       "3      Oulu    568230"
      ]
     },
     "execution_count": 3,
     "metadata": {},
     "output_type": "execute_result"
    }
   ],
   "source": [
    "raw_data = {'Alue': ['Helsinki', 'Turku', 'Tampere','Oulu'],\n",
    "           'Myynti': [13221847,852669,10322199,568230]}\n",
    "myynnit = pd.DataFrame(raw_data)\n",
    "myynnit"
   ]
  },
  {
   "cell_type": "code",
   "execution_count": 4,
   "metadata": {},
   "outputs": [
    {
     "data": {
      "text/html": [
       "<div>\n",
       "<style>\n",
       "    .dataframe thead tr:only-child th {\n",
       "        text-align: right;\n",
       "    }\n",
       "\n",
       "    .dataframe thead th {\n",
       "        text-align: left;\n",
       "    }\n",
       "\n",
       "    .dataframe tbody tr th {\n",
       "        vertical-align: top;\n",
       "    }\n",
       "</style>\n",
       "<table border=\"1\" class=\"dataframe\">\n",
       "  <thead>\n",
       "    <tr style=\"text-align: right;\">\n",
       "      <th></th>\n",
       "      <th>Alue</th>\n",
       "      <th>Myynti</th>\n",
       "    </tr>\n",
       "    <tr>\n",
       "      <th>Alue</th>\n",
       "      <th></th>\n",
       "      <th></th>\n",
       "    </tr>\n",
       "  </thead>\n",
       "  <tbody>\n",
       "    <tr>\n",
       "      <th>Helsinki</th>\n",
       "      <td>Helsinki</td>\n",
       "      <td>13221847</td>\n",
       "    </tr>\n",
       "    <tr>\n",
       "      <th>Turku</th>\n",
       "      <td>Turku</td>\n",
       "      <td>852669</td>\n",
       "    </tr>\n",
       "    <tr>\n",
       "      <th>Tampere</th>\n",
       "      <td>Tampere</td>\n",
       "      <td>10322199</td>\n",
       "    </tr>\n",
       "    <tr>\n",
       "      <th>Oulu</th>\n",
       "      <td>Oulu</td>\n",
       "      <td>568230</td>\n",
       "    </tr>\n",
       "  </tbody>\n",
       "</table>\n",
       "</div>"
      ],
      "text/plain": [
       "              Alue    Myynti\n",
       "Alue                        \n",
       "Helsinki  Helsinki  13221847\n",
       "Turku        Turku    852669\n",
       "Tampere    Tampere  10322199\n",
       "Oulu          Oulu    568230"
      ]
     },
     "execution_count": 4,
     "metadata": {},
     "output_type": "execute_result"
    }
   ],
   "source": [
    "myynnit.index=myynnit['Alue']\n",
    "myynnit"
   ]
  },
  {
   "cell_type": "code",
   "execution_count": 5,
   "metadata": {},
   "outputs": [
    {
     "data": {
      "text/plain": [
       "<matplotlib.axes._subplots.AxesSubplot at 0x2931a7fb048>"
      ]
     },
     "execution_count": 5,
     "metadata": {},
     "output_type": "execute_result"
    },
    {
     "data": {
      "image/png": "[encoded data removed]",
      "text/plain": [
       "<matplotlib.figure.Figure at 0x2931a815240>"
      ]
     },
     "metadata": {},
     "output_type": "display_data"
    }
   ],
   "source": [
    "myynnit.plot.barh()"
   ]
  },
  {
   "cell_type": "code",
   "execution_count": 6,
   "metadata": {},
   "outputs": [
    {
     "data": {
      "text/plain": [
       "['bmh',\n",
       " 'classic',\n",
       " 'dark_background',\n",
       " 'fast',\n",
       " 'fivethirtyeight',\n",
       " 'ggplot',\n",
       " 'grayscale',\n",
       " 'seaborn-bright',\n",
       " 'seaborn-colorblind',\n",
       " 'seaborn-dark-palette',\n",
       " 'seaborn-dark',\n",
       " 'seaborn-darkgrid',\n",
       " 'seaborn-deep',\n",
       " 'seaborn-muted',\n",
       " 'seaborn-notebook',\n",
       " 'seaborn-paper',\n",
       " 'seaborn-pastel',\n",
       " 'seaborn-poster',\n",
       " 'seaborn-talk',\n",
       " 'seaborn-ticks',\n",
       " 'seaborn-white',\n",
       " 'seaborn-whitegrid',\n",
       " 'seaborn',\n",
       " 'Solarize_Light2',\n",
       " '_classic_test']"
      ]
     },
     "execution_count": 6,
     "metadata": {},
     "output_type": "execute_result"
    }
   ],
   "source": [
    "plt.style.available"
   ]
  },
  {
   "cell_type": "code",
   "execution_count": 7,
   "metadata": {},
   "outputs": [
    {
     "data": {
      "text/plain": [
       "<matplotlib.axes._subplots.AxesSubplot at 0x2931b382860>"
      ]
     },
     "execution_count": 7,
     "metadata": {},
     "output_type": "execute_result"
    },
    {
     "data": {
      "image/png": "[encoded data removed]",
      "text/plain": [
       "<matplotlib.figure.Figure at 0x2931b01d5f8>"
      ]
     },
     "metadata": {},
     "output_type": "display_data"
    }
   ],
   "source": [
    "plt.style.use('ggplot')\n",
    "myynnit.plot.barh()"
   ]
  },
  {
   "cell_type": "code",
   "execution_count": 9,
   "metadata": {},
   "outputs": [
    {
     "data": {
      "text/plain": [
       "[Text(0,0,'0.0'),\n",
       " Text(0,0,'2.0'),\n",
       " Text(0,0,'4.0'),\n",
       " Text(0,0,'6.0'),\n",
       " Text(0,0,'8.0'),\n",
       " Text(0,0,'10.0'),\n",
       " Text(0,0,'12.0'),\n",
       " Text(0,0,'14.0')]"
      ]
     },
     "execution_count": 9,
     "metadata": {},
     "output_type": "execute_result"
    },
    {
     "data": {
      "image/png": "[encoded data removed]",
      "text/plain": [
       "<matplotlib.figure.Figure at 0x2931b4eb780>"
      ]
     },
     "metadata": {},
     "output_type": "display_data"
    }
   ],
   "source": [
    "ax = myynnit.sort_values(by='Myynti').plot.barh(title='Myynti vuonna 2017',\n",
    "                                              legend=False)\n",
    "ax.set(xlabel='Miljoonaa euroa',ylabel='')\n",
    "vals=ax.get_xticks()\n",
    "ax.set_xticklabels(['{:.1f}'.format(x/1000000) for x in vals])"
   ]
  },
  {
   "cell_type": "code",
   "execution_count": 11,
   "metadata": {},
   "outputs": [
    {
     "data": {
      "text/html": [
       "<div>\n",
       "<style>\n",
       "    .dataframe thead tr:only-child th {\n",
       "        text-align: right;\n",
       "    }\n",
       "\n",
       "    .dataframe thead th {\n",
       "        text-align: left;\n",
       "    }\n",
       "\n",
       "    .dataframe tbody tr th {\n",
       "        vertical-align: top;\n",
       "    }\n",
       "</style>\n",
       "<table border=\"1\" class=\"dataframe\">\n",
       "  <thead>\n",
       "    <tr style=\"text-align: right;\">\n",
       "      <th></th>\n",
       "      <th>Alue</th>\n",
       "      <th>Myynti</th>\n",
       "      <th>%</th>\n",
       "    </tr>\n",
       "    <tr>\n",
       "      <th>Alue</th>\n",
       "      <th></th>\n",
       "      <th></th>\n",
       "      <th></th>\n",
       "    </tr>\n",
       "  </thead>\n",
       "  <tbody>\n",
       "    <tr>\n",
       "      <th>Helsinki</th>\n",
       "      <td>Helsinki</td>\n",
       "      <td>13221847</td>\n",
       "      <td>52.961651</td>\n",
       "    </tr>\n",
       "    <tr>\n",
       "      <th>Turku</th>\n",
       "      <td>Turku</td>\n",
       "      <td>852669</td>\n",
       "      <td>3.415465</td>\n",
       "    </tr>\n",
       "    <tr>\n",
       "      <th>Tampere</th>\n",
       "      <td>Tampere</td>\n",
       "      <td>10322199</td>\n",
       "      <td>41.346772</td>\n",
       "    </tr>\n",
       "    <tr>\n",
       "      <th>Oulu</th>\n",
       "      <td>Oulu</td>\n",
       "      <td>568230</td>\n",
       "      <td>2.276112</td>\n",
       "    </tr>\n",
       "  </tbody>\n",
       "</table>\n",
       "</div>"
      ],
      "text/plain": [
       "              Alue    Myynti          %\n",
       "Alue                                   \n",
       "Helsinki  Helsinki  13221847  52.961651\n",
       "Turku        Turku    852669   3.415465\n",
       "Tampere    Tampere  10322199  41.346772\n",
       "Oulu          Oulu    568230   2.276112"
      ]
     },
     "execution_count": 11,
     "metadata": {},
     "output_type": "execute_result"
    }
   ],
   "source": [
    "myynnityht = myynnit['Myynti'].sum()\n",
    "myynnit['%']=myynnit['Myynti']/myynnityht*100\n",
    "myynnit"
   ]
  },
  {
   "cell_type": "code",
   "execution_count": 12,
   "metadata": {},
   "outputs": [
    {
     "data": {
      "image/png": "[encoded data removed]",
      "text/plain": [
       "<matplotlib.figure.Figure at 0x2931b51c9e8>"
      ]
     },
     "metadata": {},
     "output_type": "display_data"
    }
   ],
   "source": [
    "ax=myynnit.sort_values(by='%')['%'].plot.barh(title='Osuus kokonaismyynnistä vuonna 2017', \n",
    "                                              legend=False, width=0.7, color='C0')"
   ]
  },
  {
   "cell_type": "code",
   "execution_count": 15,
   "metadata": {},
   "outputs": [
    {
     "data": {
      "text/plain": [
       "[Text(0,0,'0 %'),\n",
       " Text(0,0,'10 %'),\n",
       " Text(0,0,'20 %'),\n",
       " Text(0,0,'30 %'),\n",
       " Text(0,0,'40 %'),\n",
       " Text(0,0,'50 %'),\n",
       " Text(0,0,'60 %')]"
      ]
     },
     "execution_count": 15,
     "metadata": {},
     "output_type": "execute_result"
    },
    {
     "data": {
      "image/png": "[encoded data removed]",
      "text/plain": [
       "<matplotlib.figure.Figure at 0x2931b63c978>"
      ]
     },
     "metadata": {},
     "output_type": "display_data"
    }
   ],
   "source": [
    "ax=myynnit.sort_values(by='%')['%'].plot.barh(title='Osuus kokonaismyynnistä vuonna 2017', \n",
    "                                              legend=False, width=0.7, color='C0')\n",
    "ax.set(xlabel='%', ylabel='')\n",
    "vals = ax.get_xticks()\n",
    "ax.set_xticklabels(['{:.0f} %'.format(x) for x in vals])"
   ]
  },
  {
   "cell_type": "code",
   "execution_count": null,
   "metadata": {
    "collapsed": true
   },
   "outputs": [],
   "source": []
  }
 ],
 "metadata": {
  "kernelspec": {
   "display_name": "Python 3",
   "language": "python",
   "name": "python3"
  },
  "language_info": {
   "codemirror_mode": {
    "name": "ipython",
    "version": 3
   },
   "file_extension": ".py",
   "mimetype": "text/x-python",
   "name": "python",
   "nbconvert_exporter": "python",
   "pygments_lexer": "ipython3",
   "version": "3.6.3"
  }
 },
 "nbformat": 4,
 "nbformat_minor": 2
}
